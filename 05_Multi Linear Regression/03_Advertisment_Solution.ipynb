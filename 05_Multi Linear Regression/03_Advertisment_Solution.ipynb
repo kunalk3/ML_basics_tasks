{
  "nbformat": 4,
  "nbformat_minor": 0,
  "metadata": {
    "kernelspec": {
      "display_name": "Python 3",
      "language": "python",
      "name": "python3"
    },
    "language_info": {
      "codemirror_mode": {
        "name": "ipython",
        "version": 3
      },
      "file_extension": ".py",
      "mimetype": "text/x-python",
      "name": "python",
      "nbconvert_exporter": "python",
      "pygments_lexer": "ipython3",
      "version": "3.7.4"
    },
    "colab": {
      "name": "Multiple Linear Regression.ipynb",
      "provenance": [],
      "collapsed_sections": [],
      "toc_visible": true
    }
  },
  "cells": [
    {
      "cell_type": "markdown",
      "metadata": {
        "id": "kAaDyWbHMGNo"
      },
      "source": [
        "## Multiple Linear Regression\n",
        "We will see how multiple input variables together influence the output variable, while also learning how the calculations differ from that of Simple LR model. We will also build a regression model using Python.\n",
        "At last, we will go deeper into Linear Regression and will learn things like Multicollinearity, Hypothesis Testing, Feature Selection, and much more."
      ]
    },
    {
      "cell_type": "code",
      "metadata": {
        "id": "L8XHrNfSMGNx"
      },
      "source": [
        "# Importing required libraries\n",
        "import pandas as pd\n",
        "import numpy as np\n",
        "%matplotlib inline\n",
        "import matplotlib.pyplot as plt\n",
        "from mpl_toolkits import mplot3d\n",
        "from mpl_toolkits.mplot3d import Axes3D"
      ],
      "execution_count": 1,
      "outputs": []
    },
    {
      "cell_type": "markdown",
      "metadata": {
        "id": "DfKMa_tYMGNz"
      },
      "source": [
        "### Advertising Data\n",
        "We are going to use Advertising data which is available on the site of USC Marshall School of Business. \n",
        "The advertising data set consists of the sales of a product in 200 different markets, along with advertising budgets for three different media: TV, radio, and newspaper."
      ]
    },
    {
      "cell_type": "markdown",
      "metadata": {
        "id": "oZ5JJ1H_MGNz"
      },
      "source": [
        "Loading and plotting the Data"
      ]
    },
    {
      "cell_type": "code",
      "metadata": {
        "colab": {
          "base_uri": "https://localhost:8080/",
          "height": 419
        },
        "id": "Fqm5AwSzMGNz",
        "outputId": "c9701c61-7183-41d8-f8c6-360529ddea49"
      },
      "source": [
        "data = pd.read_csv(\"Advertising.csv\")\r\n",
        "data.drop(\"Unnamed: 0\", axis =1,inplace=True)\r\n",
        "data"
      ],
      "execution_count": 2,
      "outputs": [
        {
          "output_type": "execute_result",
          "data": {
            "text/html": [
              "<div>\n",
              "<style scoped>\n",
              "    .dataframe tbody tr th:only-of-type {\n",
              "        vertical-align: middle;\n",
              "    }\n",
              "\n",
              "    .dataframe tbody tr th {\n",
              "        vertical-align: top;\n",
              "    }\n",
              "\n",
              "    .dataframe thead th {\n",
              "        text-align: right;\n",
              "    }\n",
              "</style>\n",
              "<table border=\"1\" class=\"dataframe\">\n",
              "  <thead>\n",
              "    <tr style=\"text-align: right;\">\n",
              "      <th></th>\n",
              "      <th>TV</th>\n",
              "      <th>Radio</th>\n",
              "      <th>Newspaper</th>\n",
              "      <th>Sales</th>\n",
              "    </tr>\n",
              "  </thead>\n",
              "  <tbody>\n",
              "    <tr>\n",
              "      <th>0</th>\n",
              "      <td>230.1</td>\n",
              "      <td>37.8</td>\n",
              "      <td>69.2</td>\n",
              "      <td>22.1</td>\n",
              "    </tr>\n",
              "    <tr>\n",
              "      <th>1</th>\n",
              "      <td>44.5</td>\n",
              "      <td>39.3</td>\n",
              "      <td>45.1</td>\n",
              "      <td>10.4</td>\n",
              "    </tr>\n",
              "    <tr>\n",
              "      <th>2</th>\n",
              "      <td>17.2</td>\n",
              "      <td>45.9</td>\n",
              "      <td>69.3</td>\n",
              "      <td>9.3</td>\n",
              "    </tr>\n",
              "    <tr>\n",
              "      <th>3</th>\n",
              "      <td>151.5</td>\n",
              "      <td>41.3</td>\n",
              "      <td>58.5</td>\n",
              "      <td>18.5</td>\n",
              "    </tr>\n",
              "    <tr>\n",
              "      <th>4</th>\n",
              "      <td>180.8</td>\n",
              "      <td>10.8</td>\n",
              "      <td>58.4</td>\n",
              "      <td>12.9</td>\n",
              "    </tr>\n",
              "    <tr>\n",
              "      <th>...</th>\n",
              "      <td>...</td>\n",
              "      <td>...</td>\n",
              "      <td>...</td>\n",
              "      <td>...</td>\n",
              "    </tr>\n",
              "    <tr>\n",
              "      <th>195</th>\n",
              "      <td>38.2</td>\n",
              "      <td>3.7</td>\n",
              "      <td>13.8</td>\n",
              "      <td>7.6</td>\n",
              "    </tr>\n",
              "    <tr>\n",
              "      <th>196</th>\n",
              "      <td>94.2</td>\n",
              "      <td>4.9</td>\n",
              "      <td>8.1</td>\n",
              "      <td>9.7</td>\n",
              "    </tr>\n",
              "    <tr>\n",
              "      <th>197</th>\n",
              "      <td>177.0</td>\n",
              "      <td>9.3</td>\n",
              "      <td>6.4</td>\n",
              "      <td>12.8</td>\n",
              "    </tr>\n",
              "    <tr>\n",
              "      <th>198</th>\n",
              "      <td>283.6</td>\n",
              "      <td>42.0</td>\n",
              "      <td>66.2</td>\n",
              "      <td>25.5</td>\n",
              "    </tr>\n",
              "    <tr>\n",
              "      <th>199</th>\n",
              "      <td>232.1</td>\n",
              "      <td>8.6</td>\n",
              "      <td>8.7</td>\n",
              "      <td>13.4</td>\n",
              "    </tr>\n",
              "  </tbody>\n",
              "</table>\n",
              "<p>200 rows × 4 columns</p>\n",
              "</div>"
            ],
            "text/plain": [
              "        TV  Radio  Newspaper  Sales\n",
              "0    230.1   37.8       69.2   22.1\n",
              "1     44.5   39.3       45.1   10.4\n",
              "2     17.2   45.9       69.3    9.3\n",
              "3    151.5   41.3       58.5   18.5\n",
              "4    180.8   10.8       58.4   12.9\n",
              "..     ...    ...        ...    ...\n",
              "195   38.2    3.7       13.8    7.6\n",
              "196   94.2    4.9        8.1    9.7\n",
              "197  177.0    9.3        6.4   12.8\n",
              "198  283.6   42.0       66.2   25.5\n",
              "199  232.1    8.6        8.7   13.4\n",
              "\n",
              "[200 rows x 4 columns]"
            ]
          },
          "metadata": {
            "tags": []
          },
          "execution_count": 2
        }
      ]
    },
    {
      "cell_type": "code",
      "metadata": {
        "colab": {
          "base_uri": "https://localhost:8080/",
          "height": 295
        },
        "id": "Bfbow974MGN2",
        "outputId": "8daa513b-9d45-4cda-cf4e-29aabac04fe7"
      },
      "source": [
        "plt.scatter(data.TV, data.Sales, color='blue', label='TV', alpha=0.5)\n",
        "plt.scatter(data.Radio, data.Sales, color='red', label='radio', alpha=0.5)\n",
        "plt.scatter(data.Newspaper, data.Sales, color='green', label='newspaper', alpha=0.5)\n",
        "\n",
        "plt.legend(loc=\"lower right\")\n",
        "plt.title(\"Sales vs. Advertising\")\n",
        "plt.xlabel(\"Advertising [1000 $]\")\n",
        "plt.ylabel(\"Sales [Thousands of units]\")\n",
        "plt.grid()\n",
        "plt.show()"
      ],
      "execution_count": 3,
      "outputs": [
        {
          "output_type": "display_data",
          "data": {
            "image/png": "[encoded data removed]",
            "text/plain": [
              "<Figure size 432x288 with 1 Axes>"
            ]
          },
          "metadata": {
            "tags": [],
            "needs_background": "light"
          }
        }
      ]
    },
    {
      "cell_type": "markdown",
      "metadata": {
        "id": "qYE5gNyDMGN2"
      },
      "source": [
        "----"
      ]
    },
    {
      "cell_type": "markdown",
      "metadata": {
        "id": "6tuYOBgLMGN3"
      },
      "source": [
        "#### Mathematically, general Linear Regression model can be expressed as:\n",
        "\\begin{align}\n",
        "Y= β_0+ β_1 X_1+ β_2 X_2+⋯+ β_p X_p\n",
        "\\end{align}\n",
        "\n",
        "Here, Y is the output variable, and X terms are the corresponding input variables.The first β term (βo) is the intercept constant and is the value of Y in absence of all predictors (i.e when all X terms are 0). "
      ]
    },
    {
      "cell_type": "markdown",
      "metadata": {
        "id": "fgvCZHqPMGN3"
      },
      "source": [
        "Finding the values of these constants(β) is what regression model does by minimizing the error function and fitting the best line or hyperplane (depending on the number of input variables).\n",
        "This is done by minimizing the Residual Sum of Squares (RSS), which is obtained by squaring the differences between actual and predicted outcomes.\n",
        "\n",
        "\\begin{align}\n",
        "RSS=∑_i^n(y_i-y ̂_i )^2 \n",
        "\\end{align}"
      ]
    },
    {
      "cell_type": "markdown",
      "metadata": {
        "id": "hqCWePvGMGN4"
      },
      "source": [
        "Because this method finds the least sum of squares, it is also known as the **Ordinary Least Squares** (OLS) method."
      ]
    },
    {
      "cell_type": "markdown",
      "metadata": {
        "id": "NhcWa-_OMGN4"
      },
      "source": [
        "There are two primary ways to implement the OLS algorithm: **Scikit Learn** and **Statsmodels**"
      ]
    },
    {
      "cell_type": "markdown",
      "metadata": {
        "id": "dHb8JF1yMGN4"
      },
      "source": [
        "#### SciKit Learn: \n",
        "Just import the Linear Regression module from the Sklearn package and fit the model on the data. This method is pretty straightforward and you can see how to use it below."
      ]
    },
    {
      "cell_type": "code",
      "metadata": {
        "colab": {
          "base_uri": "https://localhost:8080/"
        },
        "id": "E2k-lncaMGN4",
        "outputId": "cdb3e319-8326-4e75-d758-bfaa9187b952"
      },
      "source": [
        "from sklearn.linear_model import LinearRegression\n",
        "sk_model = LinearRegression()\n",
        "sk_model.fit(data.drop('Sales', axis=1), data.Sales)"
      ],
      "execution_count": 4,
      "outputs": [
        {
          "output_type": "execute_result",
          "data": {
            "text/plain": [
              "LinearRegression(copy_X=True, fit_intercept=True, n_jobs=None, normalize=False)"
            ]
          },
          "metadata": {
            "tags": []
          },
          "execution_count": 4
        }
      ]
    },
    {
      "cell_type": "code",
      "metadata": {
        "colab": {
          "base_uri": "https://localhost:8080/"
        },
        "id": "kEYr2LonMGN5",
        "outputId": "a2adcd9b-4b1e-4eb5-ce7b-4a6bcc1c64de"
      },
      "source": [
        "print(\"Intercept: \", sk_model.intercept_)\n",
        "print(\"Coefficients: \", sk_model.coef_)"
      ],
      "execution_count": 5,
      "outputs": [
        {
          "output_type": "stream",
          "text": [
            "Intercept:  2.938889369459412\n",
            "Coefficients:  [ 0.04576465  0.18853002 -0.00103749]\n"
          ],
          "name": "stdout"
        }
      ]
    },
    {
      "cell_type": "markdown",
      "metadata": {
        "id": "dBuO8LzjMGN5"
      },
      "source": [
        "#### Statsmodels\n",
        "Another way is to use the Statsmodels package to implement OLS. Statsmodels is a Python package that allows performing various statistical tests on the data. We will use it here because it will be helpful for us later as well."
      ]
    },
    {
      "cell_type": "code",
      "metadata": {
        "colab": {
          "base_uri": "https://localhost:8080/"
        },
        "id": "wwJG8-tKMGN5",
        "outputId": "0d5910ed-84cf-488e-f79b-4537a03a8fce"
      },
      "source": [
        "# Importing statsmodels\n",
        "import statsmodels.formula.api as sm\n",
        "\n",
        "# Fitting the OLS on data\n",
        "model = sm.ols('Sales ~ TV + Radio + Newspaper', data).fit()\n",
        "print(model.params)"
      ],
      "execution_count": 6,
      "outputs": [
        {
          "output_type": "stream",
          "text": [
            "Intercept    2.938889\n",
            "TV           0.045765\n",
            "Radio        0.188530\n",
            "Newspaper   -0.001037\n",
            "dtype: float64\n"
          ],
          "name": "stdout"
        },
        {
          "output_type": "stream",
          "text": [
            "/usr/local/lib/python3.7/dist-packages/statsmodels/tools/_testing.py:19: FutureWarning: pandas.util.testing is deprecated. Use the functions in the public API at pandas.testing instead.\n",
            "  import pandas.util.testing as tm\n"
          ],
          "name": "stderr"
        }
      ]
    },
    {
      "cell_type": "markdown",
      "metadata": {
        "id": "RTsKE-80MGN6"
      },
      "source": [
        "These results can be interpreted as follows:\n",
        "\n",
        "* If we fix the budget for TV & newspaper, then increasing the radio budget by 1000 USD  will lead to an increase in sales by around **189 units**(0.189*1000).\n",
        "\n",
        "* Similarly, by fixing the radio & newspaper, we infer an approximate rise of **46 units** of products per 1000 USD increase in the TV budget.\n",
        "\n",
        "* However, for the newspaper budget, since the coefficient is quite negligible (close to zero), it’s evident that the newspaper is not affecting the sales. In fact, it’s on the negative side of zero(-0.001) which, if the magnitude was big enough, could have meant that this agent is rather causing the sales to fall. But we cannot make that kind of inference with such negligible value."
      ]
    },
    {
      "cell_type": "markdown",
      "metadata": {
        "id": "tuSEqChQMGN6"
      },
      "source": [
        "If sales is regressed solely on newspaper (as shown below), the slope coefficient will come out to be 0.055, which is significanly large as compared to what we saw above. "
      ]
    },
    {
      "cell_type": "code",
      "metadata": {
        "colab": {
          "base_uri": "https://localhost:8080/"
        },
        "id": "pfdQwZPcMGN6",
        "outputId": "1a468338-e24a-459e-c26b-e3005eaedb69"
      },
      "source": [
        "# Simple Linear regression for sales vs newspaper\n",
        "model_npaper = sm.ols('Sales ~ Newspaper', data).fit()\n",
        "print(model_npaper.params)"
      ],
      "execution_count": 7,
      "outputs": [
        {
          "output_type": "stream",
          "text": [
            "Intercept    12.351407\n",
            "Newspaper     0.054693\n",
            "dtype: float64\n"
          ],
          "name": "stdout"
        }
      ]
    },
    {
      "cell_type": "markdown",
      "metadata": {
        "id": "OJBWkEgDMGN7"
      },
      "source": [
        "#### This is explained by **Multicollinearity**"
      ]
    },
    {
      "cell_type": "markdown",
      "metadata": {
        "id": "s6Q_kpxzMGN7"
      },
      "source": [
        "Let's plot and observe the correlations among the variables "
      ]
    },
    {
      "cell_type": "code",
      "metadata": {
        "scrolled": true,
        "colab": {
          "base_uri": "https://localhost:8080/",
          "height": 173
        },
        "id": "aF_P6bnhMGN7",
        "outputId": "94031abb-4106-4bb2-e636-422614d6aff2"
      },
      "source": [
        "data.corr()"
      ],
      "execution_count": 8,
      "outputs": [
        {
          "output_type": "execute_result",
          "data": {
            "text/html": [
              "<div>\n",
              "<style scoped>\n",
              "    .dataframe tbody tr th:only-of-type {\n",
              "        vertical-align: middle;\n",
              "    }\n",
              "\n",
              "    .dataframe tbody tr th {\n",
              "        vertical-align: top;\n",
              "    }\n",
              "\n",
              "    .dataframe thead th {\n",
              "        text-align: right;\n",
              "    }\n",
              "</style>\n",
              "<table border=\"1\" class=\"dataframe\">\n",
              "  <thead>\n",
              "    <tr style=\"text-align: right;\">\n",
              "      <th></th>\n",
              "      <th>TV</th>\n",
              "      <th>Radio</th>\n",
              "      <th>Newspaper</th>\n",
              "      <th>Sales</th>\n",
              "    </tr>\n",
              "  </thead>\n",
              "  <tbody>\n",
              "    <tr>\n",
              "      <th>TV</th>\n",
              "      <td>1.000000</td>\n",
              "      <td>0.054809</td>\n",
              "      <td>0.056648</td>\n",
              "      <td>0.782224</td>\n",
              "    </tr>\n",
              "    <tr>\n",
              "      <th>Radio</th>\n",
              "      <td>0.054809</td>\n",
              "      <td>1.000000</td>\n",
              "      <td>0.354104</td>\n",
              "      <td>0.576223</td>\n",
              "    </tr>\n",
              "    <tr>\n",
              "      <th>Newspaper</th>\n",
              "      <td>0.056648</td>\n",
              "      <td>0.354104</td>\n",
              "      <td>1.000000</td>\n",
              "      <td>0.228299</td>\n",
              "    </tr>\n",
              "    <tr>\n",
              "      <th>Sales</th>\n",
              "      <td>0.782224</td>\n",
              "      <td>0.576223</td>\n",
              "      <td>0.228299</td>\n",
              "      <td>1.000000</td>\n",
              "    </tr>\n",
              "  </tbody>\n",
              "</table>\n",
              "</div>"
            ],
            "text/plain": [
              "                 TV     Radio  Newspaper     Sales\n",
              "TV         1.000000  0.054809   0.056648  0.782224\n",
              "Radio      0.054809  1.000000   0.354104  0.576223\n",
              "Newspaper  0.056648  0.354104   1.000000  0.228299\n",
              "Sales      0.782224  0.576223   0.228299  1.000000"
            ]
          },
          "metadata": {
            "tags": []
          },
          "execution_count": 8
        }
      ]
    },
    {
      "cell_type": "markdown",
      "metadata": {
        "id": "3eYrQB9iMGN8"
      },
      "source": [
        "#### Plotting the heatmap to visualize the Correlation"
      ]
    },
    {
      "cell_type": "code",
      "metadata": {
        "colab": {
          "base_uri": "https://localhost:8080/",
          "height": 306
        },
        "id": "-Rwbo3jUMGN8",
        "outputId": "c71b8382-9025-4620-9180-1b9de98fa21e"
      },
      "source": [
        "# Plotting correlation heatmap\n",
        "plt.ylim(-.5,3.5)\n",
        "plt.imshow(data.corr(), cmap=plt.cm.GnBu, interpolation='nearest',data=True)\n",
        "plt.colorbar()\n",
        "tick_marks = [i for i in range(len(data.columns))]\n",
        "plt.xticks(tick_marks, data.columns, rotation=45)\n",
        "plt.yticks(tick_marks, data.columns, rotation=45)\n",
        "\n",
        "# Putting annotations\n",
        "for i in range(len(data.columns)):\n",
        "    for j in range(len(data.columns)):\n",
        "        text = '%.2f'%(data.corr().iloc[i,j])\n",
        "        plt.text(i-0.2,j-0.1,text)"
      ],
      "execution_count": 9,
      "outputs": [
        {
          "output_type": "display_data",
          "data": {
            "image/png": "[encoded data removed]",
            "text/plain": [
              "<Figure size 432x288 with 2 Axes>"
            ]
          },
          "metadata": {
            "tags": [],
            "needs_background": "light"
          }
        }
      ]
    },
    {
      "cell_type": "markdown",
      "metadata": {
        "id": "gQOuDoUIMGN8"
      },
      "source": [
        "The correlation between newspaper and radio is 0.35. This indicates a fair relationship between newspaper and radio budgets. \n",
        "\n",
        "Hence, it can be inferred that → when the radio budget is increased for a product, there’s a tendency to spend more on newspapers as well.\n",
        "\n",
        "This is called Multicollinearity and is referred to as a situation in which two or more input variables are linearly related.\n",
        "Hence, even though the Multiple Regression model shows no impact on sales by the newspaper, the Simple Regression model still does due to this multicollinearity and the absence of other input variables."
      ]
    },
    {
      "cell_type": "markdown",
      "metadata": {
        "id": "tridT4hcMGN9"
      },
      "source": [
        "$Sales & Radio → probable causation\n",
        "Newspaper & Radio → multicollinearity\n",
        "Sales & Newspaper → transitive correlation$"
      ]
    },
    {
      "cell_type": "markdown",
      "metadata": {
        "id": "PsfTuM5OMGN9"
      },
      "source": [
        "---"
      ]
    },
    {
      "cell_type": "markdown",
      "metadata": {
        "id": "P01r6dICMGN9"
      },
      "source": [
        "### Hypothesis Testing"
      ]
    },
    {
      "cell_type": "markdown",
      "metadata": {
        "id": "1C5HKyaQMGN-"
      },
      "source": [
        "One of the fundamental questions that should be answered while running Multiple Linear Regression is, whether or not, at least one of the predictors is useful in predicting the output.\n",
        "\n",
        "We saw that the three predictors TV, radio and newspaper had a different degree of linear relationship with the sales. But what if the relationship is just by chance and there is no actual impact on sales due to any of the predictors?\n",
        "\n",
        "The model can only give us numbers to establish a close enough linear relationship between the response variable and the predictors. However, it cannot prove the credibility of these relationships.\n",
        "\n",
        "To have some confidence, we take help from statistics and do something known as a Hypothesis Test. We start by forming a Null Hypothesis and a corresponding Alternative Hypothesis."
      ]
    },
    {
      "cell_type": "markdown",
      "metadata": {
        "id": "IZS6kkFJMGN_"
      },
      "source": [
        "<center> NULL HYPOTHESIS </center>\n",
        "\\begin{align}\n",
        "H_0 : \\beta_1 = \\beta_2 = ... = \\beta_p = 0\n",
        "\\end{align}\n",
        "\\begin{align}\n",
        "H_0 : \\beta_TV = \\beta_radio = \\beta_newspaper = 0\n",
        "\\end{align}"
      ]
    },
    {
      "cell_type": "markdown",
      "metadata": {
        "id": "WTulpTc7MGOA"
      },
      "source": [
        "<center> ALTERNATIVE HYPOTHESIS </center>\n",
        "\\begin{align}\n",
        "H_a : At \\: least \\: one \\: \\beta_i \\: is \\: non-zero\n",
        "\\end{align}"
      ]
    },
    {
      "cell_type": "markdown",
      "metadata": {
        "id": "Kup3zedXMGOA"
      },
      "source": [
        "The hypothesis test is performed by using F-Statistic. The formula for this statistic contains Residual Sum of Squares (RSS) and the Total Sum of Squares (TSS), which we can calculate using the Statsmodels. "
      ]
    },
    {
      "cell_type": "code",
      "metadata": {
        "colab": {
          "base_uri": "https://localhost:8080/"
        },
        "id": "MzjdnNhRMGOA",
        "outputId": "32379d06-98d0-49e4-8cd6-98d47687e766"
      },
      "source": [
        "print(model.summary2())"
      ],
      "execution_count": 10,
      "outputs": [
        {
          "output_type": "stream",
          "text": [
            "                 Results: Ordinary least squares\n",
            "=================================================================\n",
            "Model:              OLS              Adj. R-squared:     0.896   \n",
            "Dependent Variable: Sales            AIC:                780.3622\n",
            "Date:               2021-03-09 18:29 BIC:                793.5555\n",
            "No. Observations:   200              Log-Likelihood:     -386.18 \n",
            "Df Model:           3                F-statistic:        570.3   \n",
            "Df Residuals:       196              Prob (F-statistic): 1.58e-96\n",
            "R-squared:          0.897            Scale:              2.8409  \n",
            "------------------------------------------------------------------\n",
            "                Coef.   Std.Err.     t     P>|t|    [0.025  0.975]\n",
            "------------------------------------------------------------------\n",
            "Intercept       2.9389    0.3119   9.4223  0.0000   2.3238  3.5540\n",
            "TV              0.0458    0.0014  32.8086  0.0000   0.0430  0.0485\n",
            "Radio           0.1885    0.0086  21.8935  0.0000   0.1715  0.2055\n",
            "Newspaper      -0.0010    0.0059  -0.1767  0.8599  -0.0126  0.0105\n",
            "-----------------------------------------------------------------\n",
            "Omnibus:             60.414       Durbin-Watson:          2.084  \n",
            "Prob(Omnibus):       0.000        Jarque-Bera (JB):       151.241\n",
            "Skew:                -1.327       Prob(JB):               0.000  \n",
            "Kurtosis:            6.332        Condition No.:          454    \n",
            "=================================================================\n",
            "\n"
          ],
          "name": "stdout"
        }
      ]
    },
    {
      "cell_type": "markdown",
      "metadata": {
        "id": "XwEKYUloMGOA"
      },
      "source": [
        "If the value of F-statistic is equal to or very close to 1, then the results are in favor of the Null Hypothesis and we fail to reject it.\n",
        "\n",
        "But as we can see that the F-statistic is many folds larger than 1, thus providing strong evidence against the Null Hypothesis (that all coefficients are zero). Hence, we **reject the Null Hypothesis** and are confident that at least one predictor is useful in predicting the output.\n",
        "\n",
        "*Note that F-statistic is not suitable when the number of predictors(p) is large, or if p is greater than the number of data samples (n).*"
      ]
    },
    {
      "cell_type": "markdown",
      "metadata": {
        "id": "6MZSVZ0yMGOB"
      },
      "source": [
        "Hence, we can say that at least one of the three advertising agents is useful in predicting sales.\n",
        "\n",
        "But to find out, which predictor or predictors are useful and which one are not, we do **Feature Selection**"
      ]
    },
    {
      "cell_type": "markdown",
      "metadata": {
        "id": "-gqVGTsbMGOB"
      },
      "source": [
        "Two of the ways of doing Feature Selection are **Forward Selecton** & **Backward Selection**"
      ]
    },
    {
      "cell_type": "markdown",
      "metadata": {
        "id": "D4LSuc9EMGOB"
      },
      "source": [
        "Let's proceed with forward selection. We start with a model without any predictor and just the intercept term. We then perform simple linear regression for each predictor to find the best performer(lowest RSS). We then add another variable to it and check for the best 2-variable combination again by calculating the lowest RSS(Residual Sum of Squares). After that the best 3-variable combination is checked, and so on. The approach is stopped when some stopping rule is satisfied."
      ]
    },
    {
      "cell_type": "code",
      "metadata": {
        "id": "OexKTDLNMGOB"
      },
      "source": [
        "# Defining the function to evaluate amodel\n",
        "def evaluateModel (model):\n",
        "    print(\"RSS = \", ((data.sales - model.predict())**2).sum())\n",
        "    print(\"R2 = \", model.rsquared)"
      ],
      "execution_count": 11,
      "outputs": []
    },
    {
      "cell_type": "markdown",
      "metadata": {
        "id": "8rDinm-3MGOC"
      },
      "source": [
        "Single Predictor Models"
      ]
    },
    {
      "cell_type": "code",
      "metadata": {
        "colab": {
          "base_uri": "https://localhost:8080/"
        },
        "id": "OYzYmBCoMGOC",
        "outputId": "2bc1e6fb-7377-4c09-fc1e-46fc446429f9"
      },
      "source": [
        "# For TV\n",
        "model_TV = sm.ols('Sales ~ TV', data=data).fit()\n",
        "print(\"model_TV\")\n",
        "print(model_TV.summary())\n",
        "print(\"------------\")\n",
        "\n",
        "\n",
        "# For radio\n",
        "model_radio = sm.ols('Sales ~ Radio', data=data).fit()\n",
        "print(\"model_radio\")\n",
        "print(model_radio.summary())\n",
        "print(\"------------\")\n",
        "\n",
        "# For newspaper\n",
        "model_newspaper = sm.ols('Sales ~ Newspaper', data=data).fit()\n",
        "print(\"model_newspaper\")\n",
        "print(model_newspaper.summary())\n",
        "print(\"------------\")"
      ],
      "execution_count": 12,
      "outputs": [
        {
          "output_type": "stream",
          "text": [
            "model_TV\n",
            "                            OLS Regression Results                            \n",
            "==============================================================================\n",
            "Dep. Variable:                  Sales   R-squared:                       0.612\n",
            "Model:                            OLS   Adj. R-squared:                  0.610\n",
            "Method:                 Least Squares   F-statistic:                     312.1\n",
            "Date:                Tue, 09 Mar 2021   Prob (F-statistic):           1.47e-42\n",
            "Time:                        18:29:01   Log-Likelihood:                -519.05\n",
            "No. Observations:                 200   AIC:                             1042.\n",
            "Df Residuals:                     198   BIC:                             1049.\n",
            "Df Model:                           1                                         \n",
            "Covariance Type:            nonrobust                                         \n",
            "==============================================================================\n",
            "                 coef    std err          t      P>|t|      [0.025      0.975]\n",
            "------------------------------------------------------------------------------\n",
            "Intercept      7.0326      0.458     15.360      0.000       6.130       7.935\n",
            "TV             0.0475      0.003     17.668      0.000       0.042       0.053\n",
            "==============================================================================\n",
            "Omnibus:                        0.531   Durbin-Watson:                   1.935\n",
            "Prob(Omnibus):                  0.767   Jarque-Bera (JB):                0.669\n",
            "Skew:                          -0.089   Prob(JB):                        0.716\n",
            "Kurtosis:                       2.779   Cond. No.                         338.\n",
            "==============================================================================\n",
            "\n",
            "Warnings:\n",
            "[1] Standard Errors assume that the covariance matrix of the errors is correctly specified.\n",
            "------------\n",
            "model_radio\n",
            "                            OLS Regression Results                            \n",
            "==============================================================================\n",
            "Dep. Variable:                  Sales   R-squared:                       0.332\n",
            "Model:                            OLS   Adj. R-squared:                  0.329\n",
            "Method:                 Least Squares   F-statistic:                     98.42\n",
            "Date:                Tue, 09 Mar 2021   Prob (F-statistic):           4.35e-19\n",
            "Time:                        18:29:01   Log-Likelihood:                -573.34\n",
            "No. Observations:                 200   AIC:                             1151.\n",
            "Df Residuals:                     198   BIC:                             1157.\n",
            "Df Model:                           1                                         \n",
            "Covariance Type:            nonrobust                                         \n",
            "==============================================================================\n",
            "                 coef    std err          t      P>|t|      [0.025      0.975]\n",
            "------------------------------------------------------------------------------\n",
            "Intercept      9.3116      0.563     16.542      0.000       8.202      10.422\n",
            "Radio          0.2025      0.020      9.921      0.000       0.162       0.243\n",
            "==============================================================================\n",
            "Omnibus:                       19.358   Durbin-Watson:                   1.946\n",
            "Prob(Omnibus):                  0.000   Jarque-Bera (JB):               21.910\n",
            "Skew:                          -0.764   Prob(JB):                     1.75e-05\n",
            "Kurtosis:                       3.544   Cond. No.                         51.4\n",
            "==============================================================================\n",
            "\n",
            "Warnings:\n",
            "[1] Standard Errors assume that the covariance matrix of the errors is correctly specified.\n",
            "------------\n",
            "model_newspaper\n",
            "                            OLS Regression Results                            \n",
            "==============================================================================\n",
            "Dep. Variable:                  Sales   R-squared:                       0.052\n",
            "Model:                            OLS   Adj. R-squared:                  0.047\n",
            "Method:                 Least Squares   F-statistic:                     10.89\n",
            "Date:                Tue, 09 Mar 2021   Prob (F-statistic):            0.00115\n",
            "Time:                        18:29:01   Log-Likelihood:                -608.34\n",
            "No. Observations:                 200   AIC:                             1221.\n",
            "Df Residuals:                     198   BIC:                             1227.\n",
            "Df Model:                           1                                         \n",
            "Covariance Type:            nonrobust                                         \n",
            "==============================================================================\n",
            "                 coef    std err          t      P>|t|      [0.025      0.975]\n",
            "------------------------------------------------------------------------------\n",
            "Intercept     12.3514      0.621     19.876      0.000      11.126      13.577\n",
            "Newspaper      0.0547      0.017      3.300      0.001       0.022       0.087\n",
            "==============================================================================\n",
            "Omnibus:                        6.231   Durbin-Watson:                   1.983\n",
            "Prob(Omnibus):                  0.044   Jarque-Bera (JB):                5.483\n",
            "Skew:                           0.330   Prob(JB):                       0.0645\n",
            "Kurtosis:                       2.527   Cond. No.                         64.7\n",
            "==============================================================================\n",
            "\n",
            "Warnings:\n",
            "[1] Standard Errors assume that the covariance matrix of the errors is correctly specified.\n",
            "------------\n"
          ],
          "name": "stdout"
        }
      ]
    },
    {
      "cell_type": "markdown",
      "metadata": {
        "id": "nNbC6iHYMGOC"
      },
      "source": [
        "We observe that for model_TV, the RSS is least and R² value is the most among all the models. Hence we select model_TV as our base model to move forward.\n",
        "\n",
        "Now, we will add the radio and newspaper one by one and check the new values."
      ]
    },
    {
      "cell_type": "code",
      "metadata": {
        "colab": {
          "base_uri": "https://localhost:8080/"
        },
        "id": "4pIX01o9MGOD",
        "outputId": "e6f5abe3-e8f4-432a-e13d-09b85c7764c3"
      },
      "source": [
        "# For TV & radio\n",
        "model_TV_radio = sm.ols('Sales ~ TV + Radio', data=data).fit()\n",
        "print(\"model_TV_radio\")\n",
        "print(model_TV_radio.summary())\n",
        "print(\"------------\")\n",
        "\n",
        "# For TV & newspaper\n",
        "model_TV_newspaper = sm.ols('Sales ~ TV + Newspaper', data=data).fit()\n",
        "print(\"model_TV_newspaper\")\n",
        "print(model_TV_newspaper.summary())\n",
        "print(\"------------\")"
      ],
      "execution_count": 13,
      "outputs": [
        {
          "output_type": "stream",
          "text": [
            "model_TV_radio\n",
            "                            OLS Regression Results                            \n",
            "==============================================================================\n",
            "Dep. Variable:                  Sales   R-squared:                       0.897\n",
            "Model:                            OLS   Adj. R-squared:                  0.896\n",
            "Method:                 Least Squares   F-statistic:                     859.6\n",
            "Date:                Tue, 09 Mar 2021   Prob (F-statistic):           4.83e-98\n",
            "Time:                        18:29:01   Log-Likelihood:                -386.20\n",
            "No. Observations:                 200   AIC:                             778.4\n",
            "Df Residuals:                     197   BIC:                             788.3\n",
            "Df Model:                           2                                         \n",
            "Covariance Type:            nonrobust                                         \n",
            "==============================================================================\n",
            "                 coef    std err          t      P>|t|      [0.025      0.975]\n",
            "------------------------------------------------------------------------------\n",
            "Intercept      2.9211      0.294      9.919      0.000       2.340       3.502\n",
            "TV             0.0458      0.001     32.909      0.000       0.043       0.048\n",
            "Radio          0.1880      0.008     23.382      0.000       0.172       0.204\n",
            "==============================================================================\n",
            "Omnibus:                       60.022   Durbin-Watson:                   2.081\n",
            "Prob(Omnibus):                  0.000   Jarque-Bera (JB):              148.679\n",
            "Skew:                          -1.323   Prob(JB):                     5.19e-33\n",
            "Kurtosis:                       6.292   Cond. No.                         425.\n",
            "==============================================================================\n",
            "\n",
            "Warnings:\n",
            "[1] Standard Errors assume that the covariance matrix of the errors is correctly specified.\n",
            "------------\n",
            "model_TV_newspaper\n",
            "                            OLS Regression Results                            \n",
            "==============================================================================\n",
            "Dep. Variable:                  Sales   R-squared:                       0.646\n",
            "Model:                            OLS   Adj. R-squared:                  0.642\n",
            "Method:                 Least Squares   F-statistic:                     179.6\n",
            "Date:                Tue, 09 Mar 2021   Prob (F-statistic):           3.95e-45\n",
            "Time:                        18:29:01   Log-Likelihood:                -509.89\n",
            "No. Observations:                 200   AIC:                             1026.\n",
            "Df Residuals:                     197   BIC:                             1036.\n",
            "Df Model:                           2                                         \n",
            "Covariance Type:            nonrobust                                         \n",
            "==============================================================================\n",
            "                 coef    std err          t      P>|t|      [0.025      0.975]\n",
            "------------------------------------------------------------------------------\n",
            "Intercept      5.7749      0.525     10.993      0.000       4.739       6.811\n",
            "TV             0.0469      0.003     18.173      0.000       0.042       0.052\n",
            "Newspaper      0.0442      0.010      4.346      0.000       0.024       0.064\n",
            "==============================================================================\n",
            "Omnibus:                        0.658   Durbin-Watson:                   1.969\n",
            "Prob(Omnibus):                  0.720   Jarque-Bera (JB):                0.415\n",
            "Skew:                          -0.093   Prob(JB):                        0.813\n",
            "Kurtosis:                       3.122   Cond. No.                         410.\n",
            "==============================================================================\n",
            "\n",
            "Warnings:\n",
            "[1] Standard Errors assume that the covariance matrix of the errors is correctly specified.\n",
            "------------\n"
          ],
          "name": "stdout"
        }
      ]
    },
    {
      "cell_type": "markdown",
      "metadata": {
        "id": "5JaYKdbRMGOD"
      },
      "source": [
        "As we can see that our values have improved tremendously in TV & radio model. RSS has increased and R² has decreased further, as compared to model_TV. It’s a good sign. \n",
        "\n",
        "On the other hand, it's not the same for TV and newspaper. The values have improved slightly by adding newspaper too, but not as significantly as with the radio. Hence, at this step, we will proceed with the TV & radio model and will observe the difference when we add newspaper to this model."
      ]
    },
    {
      "cell_type": "code",
      "metadata": {
        "colab": {
          "base_uri": "https://localhost:8080/"
        },
        "id": "qrkdHJguMGOE",
        "outputId": "2648c170-e626-45da-e88e-db4b2b172acb"
      },
      "source": [
        "# For TV, radio & newspaper\n",
        "model_all = sm.ols('Sales ~ TV + Radio + Newspaper', data=data).fit()\n",
        "print(\"model_all\")\n",
        "print(model_all.summary())\n",
        "print(\"------------\")"
      ],
      "execution_count": 14,
      "outputs": [
        {
          "output_type": "stream",
          "text": [
            "model_all\n",
            "                            OLS Regression Results                            \n",
            "==============================================================================\n",
            "Dep. Variable:                  Sales   R-squared:                       0.897\n",
            "Model:                            OLS   Adj. R-squared:                  0.896\n",
            "Method:                 Least Squares   F-statistic:                     570.3\n",
            "Date:                Tue, 09 Mar 2021   Prob (F-statistic):           1.58e-96\n",
            "Time:                        18:29:02   Log-Likelihood:                -386.18\n",
            "No. Observations:                 200   AIC:                             780.4\n",
            "Df Residuals:                     196   BIC:                             793.6\n",
            "Df Model:                           3                                         \n",
            "Covariance Type:            nonrobust                                         \n",
            "==============================================================================\n",
            "                 coef    std err          t      P>|t|      [0.025      0.975]\n",
            "------------------------------------------------------------------------------\n",
            "Intercept      2.9389      0.312      9.422      0.000       2.324       3.554\n",
            "TV             0.0458      0.001     32.809      0.000       0.043       0.049\n",
            "Radio          0.1885      0.009     21.893      0.000       0.172       0.206\n",
            "Newspaper     -0.0010      0.006     -0.177      0.860      -0.013       0.011\n",
            "==============================================================================\n",
            "Omnibus:                       60.414   Durbin-Watson:                   2.084\n",
            "Prob(Omnibus):                  0.000   Jarque-Bera (JB):              151.241\n",
            "Skew:                          -1.327   Prob(JB):                     1.44e-33\n",
            "Kurtosis:                       6.332   Cond. No.                         454.\n",
            "==============================================================================\n",
            "\n",
            "Warnings:\n",
            "[1] Standard Errors assume that the covariance matrix of the errors is correctly specified.\n",
            "------------\n"
          ],
          "name": "stdout"
        }
      ]
    },
    {
      "cell_type": "markdown",
      "metadata": {
        "id": "pbmX-LsEMGOE"
      },
      "source": [
        "The values have not improved with any significance. Hence, it’s imperative to not add newspaper and finalize the model with TV and radio as selected features.\n",
        "So our final model can be expressed as below:\n",
        "\\begin{align}\n",
        "sales = 2.92 + 0.046*TV + 0.188*radio\n",
        "\\end{align}"
      ]
    },
    {
      "cell_type": "markdown",
      "metadata": {
        "id": "sH_rWSlOMGOE"
      },
      "source": [
        "Plotting the variables TV, radio, and sales in the 3D graph, we can visualize how our model has fit a regression plane to the data."
      ]
    },
    {
      "cell_type": "code",
      "metadata": {
        "colab": {
          "base_uri": "https://localhost:8080/",
          "height": 404
        },
        "id": "moFNWtE1MGOE",
        "outputId": "10e50109-6831-4200-b3e2-5b9718f59e45"
      },
      "source": [
        "fig = plt.figure(figsize=(12,10))\n",
        "ax = fig.add_subplot(211, projection='3d')\n",
        "\n",
        "fig.suptitle('Regression: Sales ~ TV & radio Advertising')\n",
        "\n",
        "\n",
        "# Defining z function (or sales in terms of TV and radio)\n",
        "def z_function(x,y):\n",
        "    return (2.938889 + (0.045765*y) + (0.188530*x))\n",
        "\n",
        "X, Y = np.meshgrid(range(0,50,2),range(0,300,10))\n",
        "Z = z_function(X, Y)\n",
        "\n",
        "\n",
        "## Creating Wireframe\n",
        "ax.plot_wireframe(X, Y, Z, color='black')\n",
        "ax.set_xlabel('x')\n",
        "ax.set_ylabel('y')\n",
        "ax.set_zlabel('z')\n",
        "\n",
        "## Creating Surface plot\n",
        "ax.plot_surface(X, Y, Z, rstride=1, cstride=1, cmap='winter', edgecolor='black', alpha=0.5)\n",
        "\n",
        "## Adding Scatter Plot\n",
        "ax.scatter(data.Radio, data.TV, data.Sales, c='red', s=25)\n",
        "\n",
        "## Adding labels\n",
        "ax.set_xlabel('Radio')\n",
        "ax.set_ylabel('TV')\n",
        "ax.set_zlabel('Sales')\n",
        "ax.text(0,150,1, '@DataScienceWithSan')\n",
        "\n",
        "## Rotating for better view\n",
        "ax.view_init(10,30)"
      ],
      "execution_count": 15,
      "outputs": [
        {
          "output_type": "stream",
          "text": [
            "/usr/local/lib/python3.7/dist-packages/numpy/core/_asarray.py:136: VisibleDeprecationWarning: Creating an ndarray from ragged nested sequences (which is a list-or-tuple of lists-or-tuples-or ndarrays with different lengths or shapes) is deprecated. If you meant to do this, you must specify 'dtype=object' when creating the ndarray\n",
            "  return array(a, dtype, copy=False, order=order, subok=True)\n"
          ],
          "name": "stderr"
        },
        {
          "output_type": "display_data",
          "data": {
            "image/png": "[encoded data removed]",
            "text/plain": [
              "<Figure size 864x720 with 1 Axes>"
            ]
          },
          "metadata": {
            "tags": [],
            "needs_background": "light"
          }
        }
      ]
    }
  ]
}