{
 "cells": [
  {
   "cell_type": "code",
   "execution_count": null,
   "metadata": {},
   "outputs": [],
   "source": [
    "'''\n",
    "Q7) Calculate Mean, Median, Mode, Variance, Standard Deviation, Range\n",
    "    Comment about the values / draw inferences, for the given dataset Points, Score, Weigh\n",
    "    Find Mean, Median, Mode, Variance, Standard Deviation, and Range and also Comment about the values / Draw some inferences.\n",
    "'''"
   ]
  },
  {
   "cell_type": "code",
   "execution_count": null,
   "metadata": {},
   "outputs": [],
   "source": [
    "# importing the library\n",
    "import pandas as pd\n",
    "import numpy as np\n",
    "import matplotlib.pyplot as plt\n",
    "%matplotlib inline"
   ]
  },
  {
   "cell_type": "code",
   "execution_count": null,
   "metadata": {},
   "outputs": [],
   "source": [
    "# reading the dataset\n",
    "df1 = pd.read_csv ('Q7.csv')\n",
    "df1"
   ]
  },
  {
   "cell_type": "code",
   "execution_count": null,
   "metadata": {},
   "outputs": [],
   "source": [
    "# show the information of data\n",
    "df1.info()"
   ]
  },
  {
   "cell_type": "code",
   "execution_count": null,
   "metadata": {},
   "outputs": [],
   "source": [
    "# show the shape of data\n",
    "print('Shape :', df1.shape)"
   ]
  },
  {
   "cell_type": "code",
   "execution_count": null,
   "metadata": {},
   "outputs": [],
   "source": [
    "# Check the null values\n",
    "df1.isnull().head()"
   ]
  },
  {
   "cell_type": "code",
   "execution_count": null,
   "metadata": {},
   "outputs": [],
   "source": [
    "# count the values and sum\n",
    "print('1) sumPoint : ',df1['Points'].sum(),'\\n2) sumScore : ',df1['Score'].sum(),',\\n3) sumWeight: ',df1['Weigh'].sum())\n",
    "print('\\n1) sumPoint :',df1['Points'].count(),'\\n2) sumScore :',df1['Score'].count(),'\\n3) sumWeight:',df1['Weigh'].count())"
   ]
  },
  {
   "cell_type": "code",
   "execution_count": null,
   "metadata": {},
   "outputs": [],
   "source": [
    "# Calculate mean values\n",
    "meanPoint = df1['Points'].mean()\n",
    "meanScore = df1['Score'].mean()\n",
    "meanWeight = df1['Weigh'].mean()\n",
    "\n",
    "print('Mean of Point DataFrame  :', meanPoint)\n",
    "print('Mean of Score DataFrame  :', meanScore)\n",
    "print('Mean of Weight DataFrame :', meanWeight)"
   ]
  },
  {
   "cell_type": "code",
   "execution_count": null,
   "metadata": {},
   "outputs": [],
   "source": [
    "# Calculate median values\n",
    "medianPoint = df1['Points'].median()\n",
    "medianScore = df1['Score'].median()\n",
    "medianWeight = df1['Weigh'].median()\n",
    "\n",
    "print('Median of Point DataFrame  :', medianPoint)\n",
    "print('Median of Score DataFrame  :', medianScore)\n",
    "print('Median of Weight DataFrame :', medianWeight)"
   ]
  },
  {
   "cell_type": "code",
   "execution_count": null,
   "metadata": {},
   "outputs": [],
   "source": [
    "# Calculate mod values\n",
    "modPoint = df1['Points'].mode()\n",
    "modScore = df1['Score'].mode()\n",
    "modWeight = df1['Weigh'].mode()\n",
    "\n",
    "print('Mode of Point DataFrame -->\\n', modPoint)\n",
    "print('\\nMode of Score DataFrame -->\\n',modScore)\n",
    "print('\\nMode of Weight DataFrame ->\\n', modWeight)"
   ]
  },
  {
   "cell_type": "code",
   "execution_count": null,
   "metadata": {},
   "outputs": [],
   "source": [
    "# Calculate variances\n",
    "varPoint = df1['Points'].var()\n",
    "varScore = df1['Score'].var()\n",
    "varWeight = df1['Weigh'].var()\n",
    "\n",
    "print('Variance of Point DataFrame :', varPoint)\n",
    "print('Variance of Score DataFrame :', varScore)\n",
    "print('Variance of Weight DataFrame :', varWeight)"
   ]
  },
  {
   "cell_type": "code",
   "execution_count": null,
   "metadata": {},
   "outputs": [],
   "source": [
    "# Calculate standard variences\n",
    "stdPoint = df1['Points'].std()\n",
    "stdScore = df1['Score'].std()\n",
    "stdWeight = df1['Weigh'].std()\n",
    "\n",
    "print('Std. Variance of Point DataFrame  :', stdPoint)\n",
    "print('Std. Variance of Score DataFrame  :', stdScore)\n",
    "print('Std. Variance of Weight DataFrame :', stdWeight)"
   ]
  },
  {
   "cell_type": "code",
   "execution_count": null,
   "metadata": {},
   "outputs": [],
   "source": [
    "# Calculate range\n",
    "maxPoint = df1['Points'].max()\n",
    "minPoint = df1['Points'].min()\n",
    "rangePoint = maxPoint - minPoint\n",
    "print('Range of Point DataFrame  :', rangePoint)\n",
    "\n",
    "maxScore = df1['Score'].max()\n",
    "minScore = df1['Score'].min()\n",
    "rangeScore = maxScore - minScore\n",
    "print('Range of Score DataFrame  :', rangeScore)\n",
    "\n",
    "maxWeight = df1['Weigh'].max()\n",
    "minWeight = df1['Weigh'].min()\n",
    "rangeWeight = maxWeight - minWeight\n",
    "print('Range of Weight DataFrame :', rangeWeight)\n"
   ]
  },
  {
   "cell_type": "code",
   "execution_count": null,
   "metadata": {},
   "outputs": [],
   "source": [
    "# Visualization first 20 values\n",
    "df1['10_Points'] = df1['Points'].rolling(window = 20).mean()\n",
    "df1['10_Score'] = df1['Score'].rolling(window = 20).mean()"
   ]
  },
  {
   "cell_type": "code",
   "execution_count": null,
   "metadata": {},
   "outputs": [],
   "source": [
    "# plotting the graph \n",
    "df1[['Points', 'Score']].plot(figsize = (10,5))"
   ]
  },
  {
   "cell_type": "code",
   "execution_count": null,
   "metadata": {},
   "outputs": [],
   "source": [
    "'''\n",
    "Q8) Calculate Expected Value for the problem below\n",
    "    a) The weights (X) of patients at a clinic (in pounds)\n",
    "       108, 110, 123, 134, 135, 145, 167, 187, 199\n",
    "    Assume one of the patients is chosen at random. What is the Expected Value of the Weight of that patient?\n",
    "'''"
   ]
  },
  {
   "cell_type": "code",
   "execution_count": null,
   "metadata": {},
   "outputs": [],
   "source": [
    "import statistics \n",
    "wightsOfPatients = (108, 110, 123, 134, 135, 145, 167, 187, 199)"
   ]
  },
  {
   "cell_type": "code",
   "execution_count": null,
   "metadata": {},
   "outputs": [],
   "source": [
    "expectedValue = statistics.mean(wightsOfPatients)\n",
    "print('Expected value of the patient :', expectedValue)"
   ]
  },
  {
   "cell_type": "code",
   "execution_count": null,
   "metadata": {},
   "outputs": [],
   "source": [
    "'''\n",
    "Q9) Calculate Skewness, Kurtosis & draw inferences on the following data\n",
    "    Cars speed and distance --> Use Q9_a.csv\n",
    "    SP and Weight(WT) --> Use Q9_b.csv\n",
    "'''"
   ]
  },
  {
   "cell_type": "code",
   "execution_count": null,
   "metadata": {},
   "outputs": [],
   "source": [
    "# import library for visualizations\n",
    "import matplotlib.pyplot as plt\n",
    "import seaborn as sn\n",
    "%matplotlib inline"
   ]
  },
  {
   "cell_type": "code",
   "execution_count": null,
   "metadata": {},
   "outputs": [],
   "source": [
    "# read datasets\n",
    "df2 = pd.read_csv ('Q9_a.csv')\n",
    "df3 = pd.read_csv('Q9_b.csv')"
   ]
  },
  {
   "cell_type": "code",
   "execution_count": null,
   "metadata": {},
   "outputs": [],
   "source": [
    "df2.columns = ['index', 'speed', 'dist']\n",
    "df2.head()"
   ]
  },
  {
   "cell_type": "code",
   "execution_count": null,
   "metadata": {},
   "outputs": [],
   "source": [
    "df3"
   ]
  },
  {
   "cell_type": "code",
   "execution_count": null,
   "metadata": {},
   "outputs": [],
   "source": [
    "df2.info()\n",
    "df3.info()"
   ]
  },
  {
   "cell_type": "code",
   "execution_count": null,
   "metadata": {},
   "outputs": [],
   "source": [
    "# check the shape of data\n",
    "print('Shape :', df2.shape)\n",
    "print('Shape :', df3.shape)"
   ]
  },
  {
   "cell_type": "code",
   "execution_count": null,
   "metadata": {},
   "outputs": [],
   "source": [
    "# check the null values\n",
    "df2.isnull().sum()"
   ]
  },
  {
   "cell_type": "code",
   "execution_count": null,
   "metadata": {},
   "outputs": [],
   "source": [
    "# check the null values\n",
    "df3.isnull().sum()"
   ]
  },
  {
   "cell_type": "code",
   "execution_count": null,
   "metadata": {},
   "outputs": [],
   "source": [
    "sn.barplot(x ='speed', y = 'dist', data = df2) "
   ]
  },
  {
   "cell_type": "code",
   "execution_count": null,
   "metadata": {},
   "outputs": [],
   "source": [
    "# Calculate Skewness and Kurtosis \n",
    "dataFrame = pd.DataFrame(data = df2);\n",
    "skewValue = dataFrame.skew(axis = 0)  # OR df2['speed'].skew()  \n",
    "kurtValue = dataFrame.kurt(axis = 0)  # OR df2['speed'].kurt()\n",
    "print('Skewness values :', skewValue)\n",
    "print('\\nKurtosis values :', kurtValue)"
   ]
  },
  {
   "cell_type": "code",
   "execution_count": null,
   "metadata": {},
   "outputs": [],
   "source": [
    "# Visualization (matplotlib)\n",
    "plt.subplot(1,2,1)\n",
    "plt.hist(df2['speed'])\n",
    "plt.xlabel('speed')\n",
    "\n",
    "plt.subplot(1,2,2)\n",
    "plt.hist(df2['dist'])\n",
    "plt.xlabel('dist')"
   ]
  },
  {
   "cell_type": "code",
   "execution_count": null,
   "metadata": {},
   "outputs": [],
   "source": [
    "# visualization (seaborn)\n",
    "plt.subplot(1,2,1)\n",
    "sn.distplot(df2['speed'])\n",
    "\n",
    "plt.subplot(1,2,2)\n",
    "sn.distplot(df2['dist'])"
   ]
  },
  {
   "cell_type": "code",
   "execution_count": null,
   "metadata": {},
   "outputs": [],
   "source": [
    "sn.barplot(x ='SP', y = 'WT', data = df3) "
   ]
  },
  {
   "cell_type": "code",
   "execution_count": null,
   "metadata": {},
   "outputs": [],
   "source": [
    "# Calculate Skewness and Kurtosis \n",
    "dataFrame = pd.DataFrame(data = df3);\n",
    "skewValue = dataFrame.skew(axis = 0)  # OR df2['SP'].skew()  \n",
    "kurtValue = dataFrame.kurt(axis = 0)  # OR df2['SP'].kurt()\n",
    "print('Skewness values :', skewValue)\n",
    "print('\\nKurtosis values :', kurtValue)"
   ]
  },
  {
   "cell_type": "code",
   "execution_count": null,
   "metadata": {},
   "outputs": [],
   "source": [
    "# graph plot\n",
    "plt.subplot(1,2,1)\n",
    "plt.hist(df3['SP'])\n",
    "plt.xlabel('SP')\n",
    "\n",
    "plt.subplot(1,2,2)\n",
    "plt.hist(df3['WT'])\n",
    "plt.xlabel('WT')\n"
   ]
  },
  {
   "cell_type": "code",
   "execution_count": null,
   "metadata": {},
   "outputs": [],
   "source": [
    "# graph plot\n",
    "plt.figure(figsize = (8,6))\n",
    "sn.distplot(df3['SP'])\n",
    "\n",
    "plt.figure(figsize = (8,6))\n",
    "sn.distplot(df3['WT'])"
   ]
  },
  {
   "cell_type": "code",
   "execution_count": null,
   "metadata": {},
   "outputs": [],
   "source": [
    "'''\n",
    "Q11) Suppose we want to estimate the average weight of an adult male in Mexico. We draw a random \n",
    "     sample of 2,000 men from a population of 3,000,000 men and weigh them. We find that the \n",
    "     average person in our sample weighs 200 pounds, and the standard deviation of the sample is \n",
    "     30 pounds. Calculate 94%,98%,96% confidence interval?\n",
    "'''"
   ]
  },
  {
   "cell_type": "code",
   "execution_count": null,
   "metadata": {},
   "outputs": [],
   "source": [
    "import math\n",
    "from scipy import stats\n",
    "\n",
    "# given data\n",
    "X_bar = 200 # sample mean\n",
    "n = 2000 # random samples\n",
    "S = 3000000 # population\n",
    "sigma = 30 # std deviation\n",
    "# confidenceInterval_94, confidenceInterval_98, confidenceInterval_96 = ?, ?, ?\n",
    "\n",
    "# Formulae: \n",
    "# confidenceInterval = X_bar +- (Z (1- alpha) * (sigma / sqrt(n)))\n",
    "# Zvalue = stats.norm.ppf()  # (1- alpha)\n",
    "\n",
    "sigmaByRootN = (sigma / math.sqrt(2000))\n",
    "print(sigmaByRootN)"
   ]
  },
  {
   "cell_type": "code",
   "execution_count": null,
   "metadata": {},
   "outputs": [],
   "source": [
    "# confidenceInterval_94\n",
    "# 94 -->   3 + 94 + 3 = 100\n",
    "# we are interested at 97 value which is count from 0 to 97\n",
    "\n",
    "Zvalue_97 = stats.norm.ppf(0.97)\n",
    "print('Z value =', Zvalue_97)\n",
    "\n",
    "confidenceInterval_94 = Zvalue_97 * sigmaByRootN\n",
    "# print(confidenceInterval_94)\n",
    "print('Confidence Interval at 94 % --> Upper bound :', X_bar + confidenceInterval_94, 'Lower bound :',  X_bar - confidenceInterval_94)"
   ]
  },
  {
   "cell_type": "code",
   "execution_count": null,
   "metadata": {},
   "outputs": [],
   "source": [
    "Zvalue_98 = stats.norm.ppf(0.98)\n",
    "print('Z value =', Zvalue_98)\n",
    "\n",
    "confidenceInterval_96 = Zvalue_98 * sigmaByRootN\n",
    "# print(confidenceInterval_96)\n",
    "print('Confidence Interval at 96 % --> Upper bound :', X_bar + confidenceInterval_96, 'Lower bound :',  X_bar - confidenceInterval_96)"
   ]
  },
  {
   "cell_type": "code",
   "execution_count": null,
   "metadata": {},
   "outputs": [],
   "source": [
    "Zvalue_99 = stats.norm.ppf(0.99)\n",
    "print('Z value =', Zvalue_99)\n",
    "\n",
    "confidenceInterval_98 = Zvalue_99 * sigmaByRootN\n",
    "# print(confidenceInterval_98)\n",
    "print('Confidence Interval at 98 % --> Upper bound :', X_bar + confidenceInterval_98, 'Lower bound :',  X_bar - confidenceInterval_98)"
   ]
  },
  {
   "cell_type": "code",
   "execution_count": null,
   "metadata": {},
   "outputs": [],
   "source": [
    "'''\n",
    "Q12) Below are the scores obtained by a student in tests \n",
    "     34,36,36,38,38,39,39,40,40,41,41,41,41,42,42,45,49,56\n",
    "     1) Find mean, median, variance, standard deviation.\n",
    "     2) What can we say about the student marks? \n",
    "'''"
   ]
  },
  {
   "cell_type": "code",
   "execution_count": null,
   "metadata": {},
   "outputs": [],
   "source": [
    "import statistics"
   ]
  },
  {
   "cell_type": "code",
   "execution_count": null,
   "metadata": {},
   "outputs": [],
   "source": [
    "# Statistical analysis and calculations\n",
    "scores = (34,36,36,38,38,39,39,40,40,41,41,41,41,42,42,45,49,56)\n",
    "print('Mean      : ', statistics.mean(scores))\n",
    "print('Median    : ', statistics.median(scores))\n",
    "print('Mode      : ', statistics.mode(scores))\n",
    "print('Multimode : ', statistics.multimode(scores))\n",
    "print('Mode      : ', statistics.variance(scores))\n",
    "print('Mode      : ', statistics.stdev(scores))\n",
    "print('Min value : ', min(scores))\n",
    "print('Max value : ', max(scores))\n",
    "print('Difference: ', max(scores) - min(scores))"
   ]
  },
  {
   "cell_type": "code",
   "execution_count": null,
   "metadata": {},
   "outputs": [],
   "source": [
    "sn.distplot(scores)\n",
    "plt.xlabel('Student Scores')"
   ]
  },
  {
   "cell_type": "code",
   "execution_count": null,
   "metadata": {},
   "outputs": [],
   "source": [
    "plt.figure(figsize = (6,4))\n",
    "plt.hist(scores)\n",
    "plt.xlabel('Student Scores')"
   ]
  },
  {
   "cell_type": "code",
   "execution_count": null,
   "metadata": {},
   "outputs": [],
   "source": [
    "# comment: from above visualization, here we notice that the distribution data is positively skewed\n",
    "#          As the tail of the distribution is at right side"
   ]
  },
  {
   "cell_type": "code",
   "execution_count": null,
   "metadata": {},
   "outputs": [],
   "source": [
    "'''\n",
    "Q 20) Calculate probability from the given dataset for the below cases (Data _set: Cars.csv)\n",
    "      Calculate the probability of MPG  of Cars for the below cases.\n",
    "      MPG <- Cars$MPG\n",
    "      a) P (MPG>38)\n",
    "      b) P (MPG<40)\n",
    "      c) P (20<MPG<50)\n",
    "'''"
   ]
  },
  {
   "cell_type": "code",
   "execution_count": null,
   "metadata": {},
   "outputs": [],
   "source": [
    "import pandas as pd\n",
    "import numpy as np\n",
    "import matplotlib.pyplot as plt\n",
    "import math\n",
    "from scipy import stats\n",
    "%matplotlib inline"
   ]
  },
  {
   "cell_type": "code",
   "execution_count": null,
   "metadata": {},
   "outputs": [],
   "source": [
    "df4 = pd.read_csv ('Cars.csv')\n",
    "df4.head()"
   ]
  },
  {
   "cell_type": "code",
   "execution_count": null,
   "metadata": {},
   "outputs": [],
   "source": [
    "print('Shape :',df4.shape)\n",
    "df4.isnull().sum()"
   ]
  },
  {
   "cell_type": "code",
   "execution_count": null,
   "metadata": {},
   "outputs": [],
   "source": [
    "meanMu = df4['MPG'].mean()\n",
    "stdDeviation = df4['MPG'].std()\n",
    "print('mu    :', meanMu, '\\nsigma :',stdDeviation)"
   ]
  },
  {
   "cell_type": "code",
   "execution_count": null,
   "metadata": {},
   "outputs": [],
   "source": [
    "# P(MPG > 38)\n",
    "Z1 = (38 - meanMu) / stdDeviation  # Formula: Z = (X - mu) / sigma\n",
    "Zvalue1 = stats.norm.cdf(Z1)  # Zvalue1 = Z / (1 - Alpha)\n",
    "print('Probalibity (MPG > 38)  :', (1 - Zvalue1) * 100 ,'%')\n",
    "\n",
    "# P(MPG < 40)\n",
    "Z2 = (40 - meanMu) / stdDeviation  \n",
    "Zvalue2 = stats.norm.cdf(Z2)  \n",
    "print('Probalibity (MPG < 40)  :', (Zvalue2 * 100) ,'%')\n",
    "\n",
    "# P(20 < MPG < 50) --> Using P(X1 < MPG) - P(X2 < MPG)\n",
    "Z3 = (20 - meanMu) / stdDeviation  \n",
    "Zvalue3 = stats.norm.cdf(Z3)\n",
    "Z4 = (50 - meanMu) / stdDeviation  \n",
    "Zvalue4 = stats.norm.cdf(Z4)\n",
    "print('Probalibity (20<MPG<50) :', ((Zvalue4 - Zvalue3) * 100) ,'%')"
   ]
  },
  {
   "cell_type": "code",
   "execution_count": null,
   "metadata": {},
   "outputs": [],
   "source": [
    "'''\n",
    "Q 21) Check whether the data follows normal distribution\n",
    "      a) Check whether the MPG of Cars follows Normal Distribution \n",
    "         Dataset: Cars.csv\n",
    "      b) Check Whether the Adipose Tissue (AT) and Waist Circumference(Waist) from wc-at data set follows Normal Distribution \n",
    "         Dataset: wc-at.csv\n",
    "'''"
   ]
  },
  {
   "cell_type": "code",
   "execution_count": null,
   "metadata": {},
   "outputs": [],
   "source": [
    "df5 = pd.read_csv ('Cars.csv')\n",
    "df4.head()"
   ]
  },
  {
   "cell_type": "code",
   "execution_count": null,
   "metadata": {},
   "outputs": [],
   "source": [
    "df6 = pd.read_csv('wc-at.csv')\n",
    "df6.head()"
   ]
  },
  {
   "cell_type": "code",
   "execution_count": null,
   "metadata": {},
   "outputs": [],
   "source": [
    "df5.describe()"
   ]
  },
  {
   "cell_type": "code",
   "execution_count": null,
   "metadata": {},
   "outputs": [],
   "source": [
    "print('MPG meadian:', df5['MPG'].median())"
   ]
  },
  {
   "cell_type": "code",
   "execution_count": null,
   "metadata": {},
   "outputs": [],
   "source": [
    "print('MPG mode :',df5['MPG'].mode())"
   ]
  },
  {
   "cell_type": "code",
   "execution_count": null,
   "metadata": {},
   "outputs": [],
   "source": [
    "sn.distplot(df5.MPG, label = 'MPG')\n",
    "plt.legend()\n",
    "\n",
    "# comment : MPG car data does not follow the exactly normal distribution"
   ]
  },
  {
   "cell_type": "code",
   "execution_count": null,
   "metadata": {},
   "outputs": [],
   "source": [
    "sn.distplot(df6.AT, label = 'AT')\n",
    "sn.distplot(df6.Waist, label = 'Waist')\n",
    "plt.xlabel('AT')\n",
    "plt.ylabel('Waist')\n",
    "plt.legend()\n",
    "\n",
    "# comment: AT data and Waist data does not follow the exactly normal distribution"
   ]
  },
  {
   "cell_type": "code",
   "execution_count": null,
   "metadata": {},
   "outputs": [],
   "source": [
    "'''\n",
    "Q22 Calculate the Z scores of 90% confidence interval, 94% confidence interval and 60% confidence interval \n",
    "'''"
   ]
  },
  {
   "cell_type": "code",
   "execution_count": null,
   "metadata": {},
   "outputs": [],
   "source": [
    "from scipy import stats\n",
    "\n",
    "# Z scores of 90% confidence interval\n",
    "print('Z score at 90% CI :', stats.norm.ppf(0.95)) # summary 5 <-- 90 --> 5\n",
    "\n",
    "# Z scores of 94% confidence interval\n",
    "print('Z score at 94% CI :', stats.norm.ppf(0.97)) # summary 3 <-- 94 --> 3 \n",
    "\n",
    "# Z scores of 60% confidence interval\n",
    "print('Z score at 60% CI :', stats.norm.ppf(0.80)) # summary 20 <-- 60 --> 20"
   ]
  },
  {
   "cell_type": "code",
   "execution_count": null,
   "metadata": {},
   "outputs": [],
   "source": [
    "'''\n",
    "Q23 Calculate the t scores of 95% confidence interval, 96% confidence interval and 99% confidence interval \n",
    "    for the sample size of 25\n",
    "'''"
   ]
  },
  {
   "cell_type": "code",
   "execution_count": null,
   "metadata": {},
   "outputs": [],
   "source": [
    "from scipy import stats\n",
    "\n",
    "# n = 25\n",
    "# C.I = (1 - Alpha)\n",
    "\n",
    "# t scores of 95% confidence interval \n",
    "print('t scores of 95% confidence interval :', stats.t.ppf(0.975, df = 24))  # 2.5 <-- 95 --> 2.5 \n",
    "# t scores of 96% confidence interval \n",
    "print('t scores of 96% confidence interval :', stats.t.ppf(0.98, df = 24))  # 2 <-- 96 --> 2 \n",
    "# t scores of 99% confidence interval \n",
    "print('t scores of 99% confidence interval :', stats.t.ppf(0.995, df = 24))  # 0.5 <-- 99 --> 0.5 "
   ]
  },
  {
   "cell_type": "code",
   "execution_count": null,
   "metadata": {},
   "outputs": [],
   "source": [
    "'''\n",
    "Q 24) A Government company claims that an average light bulb lasts 270 days. A researcher randomly selects 18 bulbs for testing. The sampled bulbs last an average of 260 days, with a standard deviation of 90 days. If the CEO's claim were true, what is the probability that 18 randomly selected bulbs would have an average life of no more than 260 days\n",
    "      Hint:  \n",
    "            rcode -> pt(tscore, df)  \n",
    "            df -> degrees of freedom\n",
    "'''"
   ]
  },
  {
   "cell_type": "code",
   "execution_count": null,
   "metadata": {},
   "outputs": [],
   "source": [
    "# n = 18, sigma = 270, s (std. Dev) = 90, X (bar) = 260, Degree of freedom = 17\n",
    "\n",
    "print('Value:', stats.t.cdf(0.975, df = 17))"
   ]
  },
  {
   "cell_type": "code",
   "execution_count": null,
   "metadata": {},
   "outputs": [],
   "source": [
    "# End of assignment 1"
   ]
  }
 ],
 "metadata": {
  "kernelspec": {
   "display_name": "Python 3",
   "language": "python",
   "name": "python3"
  },
  "language_info": {
   "codemirror_mode": {
    "name": "ipython",
    "version": 3
   },
   "file_extension": ".py",
   "mimetype": "text/x-python",
   "name": "python",
   "nbconvert_exporter": "python",
   "pygments_lexer": "ipython3",
   "version": "3.8.3"
  }
 },
 "nbformat": 4,
 "nbformat_minor": 4
}
